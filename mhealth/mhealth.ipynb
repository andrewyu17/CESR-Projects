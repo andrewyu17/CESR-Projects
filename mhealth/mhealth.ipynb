{
 "cells": [
  {
   "cell_type": "markdown",
   "id": "42198643",
   "metadata": {},
   "source": [
    "## Mental Health Project\n",
    "#### By Andrew Yu (8/9/21)\n",
   ]
  },
  {
   "cell_type": "code",
   "execution_count": null,
   "id": "e10b27b1",
   "metadata": {},
   "outputs": [],
   "source": [
    "clear all\n",
    "set more off"
   ]
  },
  {
   "cell_type": "markdown",
   "id": "5710817e",
   "metadata": {},
   "source": [
    "## Directories"
   ]
  },
  {
   "cell_type": "code",
   "execution_count": null,
   "id": "45a723d2",
   "metadata": {},
   "outputs": [],
   "source": [
    "global input_dir \"C:\\Users\\ayu087\\OneDrive\\Dropbox\\UKB\\Input\"\n",
    "global output_dir \"C:\\Users\\ayu087\\OneDrive\\Dropbox\\UKB\\Output\"\n",
    "global graphs \"C:\\Users\\ayu087\\OneDrive\\Dropbox\\UKB\\Output\\Graphs\"\n",
    "\n",
    "use \"`input_dir'/renamedMainData\", clear"
   ]
  },
  {
   "cell_type": "markdown",
   "id": "8a3240b0",
   "metadata": {},
   "source": [
    "## 1. Create the different measures of mental health quality using Biobank Survey Questions"
   ]
  },
  {
   "cell_type": "markdown",
   "id": "1e261335",
   "metadata": {},
   "source": [
    "#### Depression Score"
   ]
  },
  {
   "cell_type": "code",
   "execution_count": null,
   "id": "8f833413",
   "metadata": {},
   "outputs": [],
   "source": [
    "*Criteria for Depression Score: 2050 + 2060 + 2070 + 2080\n",
    "gen depressionScore = depressed2w_i0 + ///\n",
    "                      unenthusiastic2w_i0 + ///\n",
    "                      tenseness2w_i0 + ///\n",
    "                      tiredness2w_i0"
   ]
  },
  {
   "cell_type": "markdown",
   "id": "a37e14fe",
   "metadata": {},
   "source": [
    "#### PHQ2"
   ]
  },
  {
   "cell_type": "code",
   "execution_count": null,
   "id": "71c53e9b",
   "metadata": {},
   "outputs": [],
   "source": [
    "*Criteria for PHQ2: 2050 + 2060\n",
    "gen phq2 =  depressed2w_i0 + ///\n",
    "            unenthusiastic2w_i0\n",
    "replace phq2 = phq2 - 2 //Scale question score to PHQ2 score"
   ]
  },
  {
   "cell_type": "markdown",
   "id": "8888c996",
   "metadata": {},
   "source": [
    "#### Probable Bipolar Disorder (Type I)"
   ]
  },
  {
   "cell_type": "code",
   "execution_count": null,
   "id": "e11c7fbb",
   "metadata": {},
   "outputs": [],
   "source": [
    "*1st Criteria: 4642 or 4653\n",
    "gen bipolar1 = 1 if manicHyper2d_i0 == 1 | irritable2d_i0 == 1 \n",
    "\n",
    "*2nd Criteria: At least 3 from 6156.01, 6156.02, 6156.03, 6156.04\n",
    "egen nmissing = rowmiss(manicHyperSymptoms_i0_0 ///\n",
    "                        manicHyperSymptoms_i0_1 ///\n",
    "                        manicHyperSymptoms_i0_2 ///\n",
    "                        manicHyperSymptoms_i0_3)\n",
    "gen bipolar2 = 1 if nmissing == 1 | nmissing == 0\n",
    "drop nmissing\n",
    "\n",
    "*3rd Criteria: 5663 + 5674\n",
    "gen bipolar3 = 1 if manicEpisodesLength_i0 == 13 & manicEpisodesSeverity_i0 == 12\n",
    "\n",
    "*Assessment\n",
    "gen bipolarType1 = 1 if (bipolar1 == 1 & bipolar2 == 1 & bipolar3 == 1)\n",
    "replace bipolarType1 = 0 if mi(bipolarType1)\n",
    "drop bipolar1 bipolar2 bipolar3"
   ]
  },
  {
   "cell_type": "markdown",
   "id": "9c7b4287",
   "metadata": {},
   "source": [
    "#### PHQ-9"
   ]
  },
  {
   "cell_type": "code",
   "execution_count": null,
   "id": "db32edf1",
   "metadata": {},
   "outputs": [],
   "source": [
    "forval i = 1/9 {\n",
    "    replace phq9_`i' = . if phq9_`i' == -818\n",
    "}\n",
    "\n",
    "egen phq9    = rowtotal(phq9_*)\n",
    "replace phq9 = . if phq9_1 == . | phq9_2 == . | phq9_3 == . | phq9_4 == . | ///\n",
    "                    phq9_5 == . | phq9_6 == . | phq9_7 == . | phq9_8 == . | ///\n",
    "                    phq9_9 == . \n",
    "                    \n",
    "forval i = 1/9 {\n",
    "    drop phq9_`i'\n",
    "}"
   ]
  },
  {
   "cell_type": "markdown",
   "id": "02db2039",
   "metadata": {},
   "source": [
    "#### GAD-7"
   ]
  },
  {
   "cell_type": "code",
   "execution_count": null,
   "id": "0ee04bee",
   "metadata": {},
   "outputs": [],
   "source": [
    "forval i = 1/7 {\n",
    "    replace gad7_`i' = . if gad7_`i' == -818\n",
    "    replace gad7_`i' = gad7_`i' - 1\n",
    "    replace gad7_`i' = 0 if gad7_`i' == -1\n",
    "}\n",
    "\n",
    "egen gad7 = rowtotal(gad7_*)\n",
    "replace gad7 = . if gad7_1 == . | gad7_2 == . | gad7_3 == . | gad7_4 == . | ///\n",
    "gad7_5 == . | gad7_6 == . | gad7_7 == .\n",
    "\n",
    "forval i = 1/7 {\n",
    "    drop gad7_`i'\n",
    "}"
   ]
  },
  {
   "cell_type": "markdown",
   "id": "27eb586f",
   "metadata": {},
   "source": [
    "#### Wellbeing"
   ]
  },
  {
   "cell_type": "code",
   "execution_count": null,
   "id": "4c07ee53",
   "metadata": {},
   "outputs": [],
   "source": [
    "replace gen_happy = . if gen_happy == -818 | gen_happy == -121\n",
    "replace health_happy = . if health_happy == -818 | health_happy == -121\n",
    "replace life_meaningful = . if life_meaningful == -818 | life_meaningful == -121\n",
    "\n",
    "replace gen_happy = gen_happy + 10\n",
    "replace gen_happy = 6 if gen_happy == 11\n",
    "replace gen_happy = 5 if gen_happy == 12\n",
    "replace gen_happy = 4 if gen_happy == 13\n",
    "replace gen_happy = 3 if gen_happy == 14\n",
    "replace gen_happy = 2 if gen_happy == 15\n",
    "replace gen_happy = 1 if gen_happy == 16\n",
    "\n",
    "replace health_happy = health_happy + 10\n",
    "replace health_happy = 6 if health_happy == 11\n",
    "replace health_happy = 5 if health_happy == 12\n",
    "replace health_happy = 4 if health_happy == 13\n",
    "replace health_happy = 3 if health_happy == 14\n",
    "replace health_happy = 2 if health_happy == 15\n",
    "replace health_happy = 1 if health_happy == 16\n",
    "\n",
    "gen wellbeing = gen_happy + health_happy + life_meaningful"
   ]
  },
  {
   "cell_type": "markdown",
   "id": "56fa3bb6",
   "metadata": {},
   "source": [
    "## 2. Run McCrary Test"
   ]
  },
  {
   "cell_type": "markdown",
   "id": "b9ad5e76",
   "metadata": {},
   "source": [
    "#### Set the restrictions for our sample size"
   ]
  },
  {
   "cell_type": "code",
   "execution_count": null,
   "id": "87adf4e6",
   "metadata": {},
   "outputs": [],
   "source": [
    "drop if DoB== .\n",
    "drop if edu16 == .\n",
    "keep if SLA < 19\n",
    "keep if England == 1 | Wales == 1 | Scotland == 1\n",
    "drop if EAscore == .\n",
    "drop if PC1 > 0 & PC1 ~= .\n",
    "drop if PC1 == . | PC2 == . | PC3 == . | PC4 == . | PC5 == . | PC6 == . | PC7 == . | PC8 == . | PC9 == . | PC10 == . | PC11 == . | PC12 == . | PC13 == . | PC14 == . | PC15 == . | PC16 == . | PC17 == . | PC18 == . | PC19 == . | PC20 == . "
   ]
  },
  {
   "cell_type": "markdown",
   "id": "02224c04",
   "metadata": {},
   "source": [
    "#### Standardize the PGS variables for both 4 year and 10 year bandwidths"
   ]
  },
  {
   "cell_type": "code",
   "execution_count": null,
   "id": "564e0cc3",
   "metadata": {},
   "outputs": [],
   "source": [
    "bysort YoB: egen number = count(edu16)\n",
    "\n",
    "*EA\n",
    "foreach var in EAscore {\n",
    "    qui summ `var' [aw=w10]  if DoB >= -365 & DoB <= -1\n",
    "    qui replace `var' = -(`var' - r(mean))/r(sd)\n",
    "}\n",
    "\n",
    "*PCs\n",
    "forvalues i = 1/20 {\n",
    "    qui summ PC`i' [aw=w10]\n",
    "    qui replace PC`i' = (PC`i' - r(mean))/r(sd)\n",
    "}"
   ]
  },
  {
   "cell_type": "markdown",
   "id": "c8528986",
   "metadata": {},
   "source": [
    "#### Collapse the variables that need to be observed by year of birth, we are looking for a discontinuity at the threshold year and all else should be consistent"
   ]
  },
  {
   "cell_type": "code",
   "execution_count": null,
   "id": "062d9e71",
   "metadata": {},
   "outputs": [],
   "source": [
    "collapse EAscore male edu16 number ///\n",
    "         PC1 PC2 PC3 PC4 PC5 PC6 PC7 PC8 PC9 PC10 ///\n",
    "         PC11 PC12 PC13 PC14 PC15 PC16 PC17 PC18 PC19 PC20 ///\n",
    "         England Wales Scotland birthplace_East birthplace_North ///\n",
    "         right_handed left_handed adopted, by(YoB)   "
   ]
  },
  {
   "cell_type": "code",
   "execution_count": null,
   "id": "836fed5b",
   "metadata": {},
   "outputs": [],
   "source": [
    "foreach variable in number EAscore male PC* England Scotland Wales birthplace_East birthplace_North right_handed left_handed adopted {\n",
    "    twoway scatter  (`variable' YoB), ///\n",
    "                    , ytitle(\"Number of Individuals\") ///\n",
    "                    xtitle(\"Year of Birth\") /// \n",
    "                    xline(0,  lpattern(dash) lcolor(gs8)) ///\n",
    "                    graphregion(fcolor(white)) plotregion(lwidth(none)) ///\n",
    "                    scheme(s1mono) ///\n",
    "                    ylabel(8000(4000)20000, nogrid) ///\n",
    "                    title(\"McCrary Test\", size(medium)) ///\n",
    "                    xlabel(-8 \"9/49-8/50\" -4 \"9/53-8/54\" 0 \"9/57-8/58\" 4 \"9/61-8/62\" 8 \"9/65-8/66\")\n",
    "                    \n",
    "graph export \"$graphs/Tests/`variable' McCrary Test.png\", as(png) replace width(2000)\n",
    "}"
   ]
  },
  {
   "cell_type": "markdown",
   "id": "01de0630",
   "metadata": {},
   "source": [
    "#### Create tables that capture the numbers as well in both 4 year and 10 year bandwidths"
   ]
  },
  {
   "cell_type": "code",
   "execution_count": null,
   "id": "92213de1",
   "metadata": {},
   "outputs": [],
   "source": [
    "foreach depvar in number EAscore male PC* England Scotland Wales birthplace_East birthplace_North right_handed left_handed adopted {\n",
    "    // 4 Years Bandwidth\n",
    "    regress `depvar' after $trends4 [aw=w4], robust\n",
    "    qui summ `depvar' if YoB == -1, meanonly\n",
    "    local mean = round(r(mean),0.001)\n",
    "    outreg2 using \"$output_dir/outreg/Tests/All/Tests.doc\", `doit' addstat(Mean of Y,`mean') addtext(Polynomial, \"Linear\", Trends Restricted, \"Yes\") keep(after) nor2 dec(2) ctitle(`depvar',4 Year) \n",
    "    \n",
    "    //10 Years Bandwidth\n",
    "    regress `depvar' after $trends10 [aw=w10], robust\n",
    "    qui summ `depvar' if YoB == -1, meanonly\n",
    "    local mean = round(r(mean),0.001)\n",
    "    outreg2 using \"$output_dir/outreg/Tests/All/Tests.doc\", append addstat(Mean of Y,`mean') addtext(Polynomial, \"Quadratic\", Trends Restricted, \"Yes\") keep(after) nor2 dec(2) ctitle(`depvar',10 Year) \n",
    "\n",
    "    local doit append\n",
    "}"
   ]
  },
  {
   "cell_type": "markdown",
   "id": "f095d20b",
   "metadata": {},
   "source": [
    "## 3. Run regressions"
   ]
  },
  {
   "cell_type": "markdown",
   "id": "f00b1001",
   "metadata": {},
   "source": [
    "#### Set trend, interaction, and control variables"
   ]
  },
  {
   "cell_type": "code",
   "execution_count": null,
   "id": "8a6af993",
   "metadata": {},
   "outputs": [],
   "source": [
    "global posttrends4 \"c.DoBafter\" \n",
    "global pretrends4  \"c.DoB\"\n",
    "global trends4     \"c.DoB c.DoBafter\"\n",
    "\n",
    "global genderafter \"c.male c.maleafter\"\n",
    "\n",
    "global posttrends10 \"c.DoBafter##c.DoBafter\"\n",
    "global pretrends10  \"c.DoB##c.DoB\"\n",
    "global trends10     \"c.DoB##c.DoB c.DoBafter##c.DoBafter\"\n",
    "\n",
    "global controls     \"age age2 Wales Scotland Jan Feb Mar Apr May Jun Jul Aug Oct Nov Dec\"\n",
    "\n",
    "gen maleSLA = male*SLA\n",
    "gen DoBmaleafter = DoB*maleafter"
   ]
  },
  {
   "cell_type": "markdown",
   "id": "0ace2c56",
   "metadata": {},
   "source": [
    "#### Run first stage regressions"
   ]
  },
  {
   "cell_type": "code",
   "execution_count": null,
   "id": "d70d3220",
   "metadata": {},
   "outputs": [],
   "source": [
    "local doit replace\n",
    "\n",
    "foreach depvar in edu16 edu17 edu18 SLA {\n",
    "\n",
    "    // 4 Years Bandwidth\n",
    "    regress `depvar' after $trends4 $controls [aw=w4] if bw4 == 1, robust\n",
    "    local pvalue = 2*ttail(e(df_r),abs(_b[after]/_se[after]))\n",
    "    summ `depvar' if YoB == -1\n",
    "    local Avg = r(mean)\n",
    "    outreg2 using \"$output/outreg/All/First Stage.doc\", `doit' addstat(pvalue,`pvalue', Avg, `Avg') addtext(Polynomial, \"Linear\", Trends Restricted, \"Yes\") ctitle(`depvar' - 4 Year) dec(3) keep(after male maleafter)\n",
    "\n",
    "    // 10 Years Bandwidth\n",
    "    regress `depvar' after $trends10 $controls [aw=w10], robust\n",
    "    local pvalue = 2*ttail(e(df_r),abs(_b[after]/_se[after]))\n",
    "    summ `depvar' if YoB == -1\n",
    "    local Avg = r(mean)\n",
    "    outreg2 using \"$output/outreg/All/First Stage.doc\", append addstat(pvalue,`pvalue', Avg, `Avg') addtext(Polynomial, \"Quadratic\", Trends Restricted, \"Yes\") ctitle(`depvar' - 10 Year) dec(3) keep(after male maleafter) title(First Stage - All) addnote(\"*Date of Birth and its interactions are included in the model but omitted from the table\")\n",
    "\n",
    "    local doit append\n",
    "}"
   ]
  },
  {
   "cell_type": "markdown",
   "id": "023a5015",
   "metadata": {},
   "source": [
    "#### OLS Regression for Full Sample"
   ]
  },
  {
   "cell_type": "code",
   "execution_count": null,
   "id": "2eccd0f3",
   "metadata": {},
   "outputs": [],
   "source": [
    "foreach depvar in depressionScore gad7 phq2 phq9 wellbeing {\n",
    "\n",
    "    // 4 Years Bandwidth\n",
    "    regress `depvar' SLA [aw=w4] if bw4 == 1, robust // $trends4 // & DoB < 0\n",
    "    local pvalue = 2*ttail(e(df_r),abs(_b[SLA]/_se[SLA]))\n",
    "    outreg2 using \"$output/outreg/All/No Interactions `depvar'.doc\", append addstat(pvalue,`pvalue') dec(3) ctitle(OLS - 4 Year) keep(after male maleafter SLA maleSLA) nor2\n",
    "\n",
    "    // 10 Years Bandwidth\n",
    "    regress `depvar' SLA [aw=w10], robust // $trends10 if DoB < 0\n",
    "    local pvalue = 2*ttail(e(df_r),abs(_b[SLA]/_se[SLA]))\n",
    "    outreg2 using \"$output/outreg/All/No Interactions `depvar'.doc\", append addstat(pvalue,`pvalue') dec(3) ctitle(OLS - 10 Year) title(`depvar' - All) keep(after male maleafter SLA maleSLA) nor2\n",
    "\n",
    "}"
   ]
  },
  {
   "cell_type": "markdown",
   "id": "2cbc1e45",
   "metadata": {},
   "source": [
    "#### Reduced Form Regression for Full Sample"
   ]
  },
  {
   "cell_type": "code",
   "execution_count": null,
   "id": "f7810b4e",
   "metadata": {},
   "outputs": [],
   "source": [
    "foreach depvar in depressionScore gad7 phq2 phq9 wellbeing {\n",
    "\n",
    "    // 4 Years Bandwidth\n",
    "    regress `depvar' after $trends4 $controls [aw=w4] if bw4 == 1, robust\n",
    "    local pvalue = 2*ttail(e(df_r),abs(_b[after]/_se[after]))\n",
    "    outreg2 using \"$output/outreg/All/No Interactions `depvar'.doc\", append addstat(pvalue,`pvalue') dec(3) ctitle(Reduced - 4 Year) keep(after male maleafter SLA maleSLA) nor2\n",
    "\n",
    "    // 10 Years Bandwidth\n",
    "    regress `depvar' after $trends10 $controls [aw=w10], robust\n",
    "    local pvalue = 2*ttail(e(df_r),abs(_b[after]/_se[after]))\n",
    "    outreg2 using \"$output/outreg/All/No Interactions `depvar'.doc\", append addstat(pvalue,`pvalue') dec(3) ctitle(Reduced - 10 Year) keep(after male maleafter SLA maleSLA) nor2\n",
    "\n",
    "}"
   ]
  },
  {
   "cell_type": "markdown",
   "id": "5113ca79",
   "metadata": {},
   "source": [
    "#### 2SLS Regression for Full Sample"
   ]
  },
  {
   "cell_type": "code",
   "execution_count": null,
   "id": "a4fbefeb",
   "metadata": {},
   "outputs": [],
   "source": [
    "foreach depvar in depressionScore gad7 phq2 phq9 wellbeing {\n",
    "\n",
    "    // 4 Years Bandwidth\n",
    "    ivregress 2sls `depvar' $trends4 $controls (SLA = after) [aw=w4] if bw4 == 1, robust\n",
    "    test SLA\n",
    "    local pvalue = r(p)\n",
    "    outreg2 using \"$output/outreg/All/No Interactions `depvar'.doc\", append addstat(pvalue,`pvalue') addtext(Polynomial, \"Linear\", Trends Restricted, \"Yes\") dec(3) ctitle(2SLS - 4 Year) keep(after male maleafter SLA maleSLA) nor2\n",
    "\n",
    "    // 10 Years Bandwidth\n",
    "    ivregress 2sls `depvar' $trends10 $controls (SLA = after) [aw=w10], robust\n",
    "    test SLA\n",
    "    local pvalue = r(p)\n",
    "    summ `depvar' if YoB == -1\n",
    "    local Avg = r(mean) \n",
    "    outreg2 using \"$output/outreg/All/No Interactions `depvar'.doc\", append addstat(pvalue,`pvalue', Avg, `Avg') addtext(Polynomial, \"Quadratic\", Trends Restricted, \"Yes\") dec(3) ctitle(2SLS - 10 Year) title(`depvar' - All) keep(after male maleafter SLA maleSLA) nor2\n",
    "\n",
    "}"
   ]
  },
  {
   "cell_type": "markdown",
   "id": "e0cde98a",
   "metadata": {},
   "source": [
    "#### OLS Regression with Gender Interactions"
   ]
  },
  {
   "cell_type": "code",
   "execution_count": null,
   "id": "ebae3a0b",
   "metadata": {},
   "outputs": [],
   "source": [
    "foreach depvar in depressionScore gad7 phq2 phq9 wellbeing {\n",
    "\n",
    "    // 4 Years Bandwidth\n",
    "    regress `depvar' male SLA maleSLA $controls [aw=w4] if bw4 == 1 & DoB < 0, robust\n",
    "    local pvalue = 2*ttail(e(df_r),abs(_b[SLA]/_se[SLA]))\n",
    "    outreg2 using \"$output/outreg/Gender/OLS/`depvar'.doc\", replace addstat(pvalue,`pvalue') addtext(Controls, \"Yes\") dec(3) ctitle(OLS - 4 Year) keep(after male maleafter SLA maleSLA) nor2 addnote(\"*Date of Birth and its interactions are included in the model but omitted from the table\" \"*Controls include age, age squared, geographical location, and month of birth\")\n",
    "    \n",
    "    // 10 Years Bandwidth\n",
    "    regress `depvar' male SLA maleSLA $controls [aw=w10] if DoB < 0, robust \n",
    "    local pvalue = 2*ttail(e(df_r),abs(_b[SLA]/_se[SLA]))\n",
    "    outreg2 using \"$output/outreg/Gender/OLS/`depvar'.doc\", append addstat(pvalue,`pvalue') addtext(Controls, \"Yes\") dec(3) ctitle(OLS - 10 Year) title(`depvar' - OLS, (among those not affected by the ROSLA)) keep(after male maleafter SLA maleSLA) nor2\n",
    "\n",
    "}"
   ]
  },
  {
   "cell_type": "markdown",
   "id": "6c7dbac2",
   "metadata": {},
   "source": [
    "#### Reduced Form Regression with Gender Interactions"
   ]
  },
  {
   "cell_type": "code",
   "execution_count": null,
   "id": "fedaa87f",
   "metadata": {},
   "outputs": [],
   "source": [
    "foreach depvar in depressionScore gad7 phq2 phq9 wellbeing {\n",
    "\n",
    "    // 4 Years Bandwidth\n",
    "    regress `depvar' after $genderafter $trends4 $controls [aw=w4] if bw4 == 1, robust\n",
    "    local pvalue = 2*ttail(e(df_r),abs(_b[after]/_se[after]))\n",
    "    outreg2 using \"$output/outreg/Gender/Reduced/Reduced `depvar'.doc\", replace addstat(pvalue,`pvalue') addtext(Polynomial, \"Linear\", Trends Restricted, \"Yes\", Controls, \"Yes\") dec(3) ctitle(Reduced - 4 Year) keep(after male maleafter SLA maleSLA) nor2 addnote(\"*Date of Birth and its interactions are included in the model but omitted from the table\" \"*Controls include age, age squared, geographical location, and month of birth\")\n",
    "\n",
    "    // 10 Years Bandwidth\n",
    "    regress `depvar' after $genderafter $trends10 $controls [aw=w10], robust\n",
    "    local pvalue = 2*ttail(e(df_r),abs(_b[after]/_se[after]))\n",
    "    outreg2 using \"$output/outreg/Gender/Reduced/Reduced `depvar'.doc\", append addstat(pvalue,`pvalue') addtext(Polynomial, \"Quadratic\", Trends Restricted, \"Yes\", Controls, \"Yes\") dec(3) ctitle(Reduced - 10 Year) keep(after male maleafter SLA maleSLA) nor2\n",
    "}"
   ]
  },
  {
   "cell_type": "markdown",
   "id": "b7b64aa0",
   "metadata": {},
   "source": [
    "#### 2SLS Regression with Gender Interactions"
   ]
  },
  {
   "cell_type": "code",
   "execution_count": null,
   "id": "90d6a5d3",
   "metadata": {},
   "outputs": [],
   "source": [
    "foreach depvar in depressionScore gad7 phq2 phq9 wellbeing {\n",
    "\n",
    "    // 4 Years Bandwidth\n",
    "    ivregress 2sls `depvar' male $trends4 (SLA maleSLA = after maleafter) [aw=w4] if bw4 == 1, robust\n",
    "    test SLA\n",
    "    local pvalue = r(p)\n",
    "    outreg2 using \"$output/outreg/Gender/2SLS/2SLS `depvar'.doc\", append addstat(pvalue,`pvalue') addtext(Polynomial, \"Linear\", Trends Restricted, \"Yes\", Controls, \"No\") dec(3) ctitle(2SLS - 4 Year) keep(after male maleafter SLA maleSLA) nor2\n",
    "    \n",
    "    // 10 Years Bandwidth\n",
    "    ivregress 2sls `depvar' male $trends10 (SLA maleSLA = after maleafter) [aw=w10], robust\n",
    "    test SLA\n",
    "    local pvalue = r(p)\n",
    "    summ `depvar' if YoB == -1 & male == 1\n",
    "    local MaleAvg = r(mean)\n",
    "    summ `depvar' if YoB == -1 & male == 0\n",
    "    local FemaleAvg = r(mean)\n",
    "    outreg2 using \"$output/outreg/Gender/2SLS/2SLS `depvar'.doc\", append addstat(pvalue,`pvalue', Male Avg, `MaleAvg', Female Avg, `FemaleAvg') addtext(Polynomial, \"Quadratic\", Trends Restricted, \"Yes\", Controls, \"No\") dec(3) ctitle(2SLS - 10 Year) title(`depvar' - Gender Interactions) keep(after male maleafter SLA maleSLA) nor2\n",
    "}"
   ]
  },
  {
   "cell_type": "markdown",
   "id": "1f44e12f",
   "metadata": {},
   "source": [
    "## 4. Visualize the First Stage and Reduced Form Regressions"
   ]
  },
  {
   "cell_type": "markdown",
   "id": "187b45cf",
   "metadata": {},
   "source": [
    "#### Load the data"
   ]
  },
  {
   "cell_type": "code",
   "execution_count": null,
   "id": "bca3db6a",
   "metadata": {},
   "outputs": [],
   "source": [
    "use \"$output/cleanedMainData\", clear"
   ]
  },
  {
   "cell_type": "markdown",
   "id": "e3574aef",
   "metadata": {},
   "source": [
    "#### Make restrictions"
   ]
  },
  {
   "cell_type": "code",
   "execution_count": null,
   "id": "be7e9516",
   "metadata": {},
   "outputs": [],
   "source": [
    "keep if SLA < 19\n",
    "drop if England == 0 & Wales == 0 & Scotland == 0"
   ]
  },
  {
   "cell_type": "markdown",
   "id": "527c045e",
   "metadata": {},
   "source": [
    "#### Run the regressions for the interested years"
   ]
  },
  {
   "cell_type": "code",
   "execution_count": null,
   "id": "776d8a85",
   "metadata": {},
   "outputs": [],
   "source": [
    "qui {\n",
    "    foreach depvar of varlist edu16 edu17 edu18 edu19 {\n",
    "\n",
    "    reg `depvar' $pretrends4  if DoB <  0 & bw4 == 1 [aw=w4]\n",
    "    gen prelinear_`depvar'  = _b[_cons] + _b[DoB]*DoB if DoB <  0 & bw4 == 1 \n",
    "    reg `depvar' $pretrends4  if DoB >= 0 & bw4 == 1 [aw=w4] \n",
    "    gen postlinear_`depvar' = _b[_cons] + _b[DoB]*DoB if DoB >= 0 & bw4 == 1 \n",
    "    reg `depvar' $pretrends10 if DoB <  0 [aw=w10]\n",
    "    gen prequad_`depvar' = _b[_cons] + _b[DoB]*DoB + _b[c.DoB#c.DoB]*c.DoB#c.DoB if DoB <  0 \n",
    "    reg `depvar' $pretrends10 if DoB >= 0 [aw=w10] \n",
    "    gen postquad_`depvar' = _b[_cons] + _b[DoB]*DoB + _b[c.DoB#c.DoB]*c.DoB#c.DoB if DoB >= 0 \n",
    "\n",
    "    ren `depvar' temp1\n",
    "    bysort YoB: egen `depvar' = mean(temp1)\n",
    "    drop temp1\n",
    "    }\n",
    "}"
   ]
  },
  {
   "cell_type": "markdown",
   "id": "05c369f0",
   "metadata": {},
   "source": [
    "#### Collapse the results to make it possible to graph by year"
   ]
  },
  {
   "cell_type": "code",
   "execution_count": null,
   "id": "a1b2aa2f",
   "metadata": {},
   "outputs": [],
   "source": [
    "collapse edu16 edu17 edu18 edu19 YoB ///\n",
    "prelinear_edu16 postlinear_edu16 prequad_edu16 postquad_edu16 ///\n",
    "prelinear_edu17 postlinear_edu17 prequad_edu17 postquad_edu17 ///\n",
    "prelinear_edu18 postlinear_edu18 prequad_edu18 postquad_edu18 ///\n",
    "prelinear_edu19 postlinear_edu19 prequad_edu19 postquad_edu19 x, by(DoB)\n",
    "\n",
    "bysort DoB: gen n = _n\n",
    "replace x = . if n > 1"
   ]
  },
  {
   "cell_type": "markdown",
   "id": "bc1b2bd3",
   "metadata": {},
   "source": [
    "#### Graph"
   ]
  },
  {
   "cell_type": "code",
   "execution_count": null,
   "id": "3579578a",
   "metadata": {},
   "outputs": [],
   "source": [
    "twoway  (scatter edu16    x, msymbol(Oh) mcolor(black) msize(vlarge)) ///\n",
    "        (scatter edu17    x, msymbol(X)  mcolor(red)   msize(vlarge)) ///\n",
    "        (scatter edu18    x, msymbol(Th) mcolor(blue)  msize(vlarge)) ///\n",
    "        (scatter edu19    x, msymbol(Sh) mcolor(green) msize(vlarge)) ///\n",
    "        (line    prelinear_edu16 DoB if DoB <= 0, lcolor(black))  ///\n",
    "        (line   postlinear_edu16 DoB if DoB >= 0, lcolor(black))  ///\n",
    "        (line    prequad_edu16   DoB if DoB <= 0, lcolor(black))  ///\n",
    "        (line   postquad_edu16   DoB if DoB >= 0, lcolor(black))  ///\n",
    "        (line    prelinear_edu17 DoB if DoB <= 0, lcolor(red))  ///\n",
    "        (line   postlinear_edu17 DoB if DoB >= 0, lcolor(red))  ///\n",
    "        (line    prequad_edu17   DoB if DoB <= 0, lcolor(red))  ///\n",
    "        (line   postquad_edu17   DoB if DoB >= 0, lcolor(red))  ///\n",
    "        (line    prelinear_edu18 DoB if DoB <= 0, lcolor(blue))  ///\n",
    "        (line   postlinear_edu18 DoB if DoB >= 0, lcolor(blue))  ///\n",
    "        (line    prequad_edu18   DoB if DoB <= 0, lcolor(blue))  ///\n",
    "        (line   postquad_edu18   DoB if DoB >= 0, lcolor(blue))  ///\n",
    "        (line    prelinear_edu19 DoB if DoB <= 0, lcolor(green))  ///\n",
    "        (line   postlinear_edu19 DoB if DoB >= 0, lcolor(green))  ///\n",
    "        (line    prequad_edu19   DoB if DoB <= 0, lcolor(green))  ///\n",
    "        (line   postquad_edu19   DoB if DoB >= 0, lcolor(green))  ///\n",
    "            , ytitle(\"Fraction who Stayed in School Until at Least...\") ///\n",
    "            xtitle(\"Year of Birth\") /// xline(182,  lpattern(dash) lcolor(gs8)) ///\n",
    "            graphregion(fcolor(white)) plotregion(lwidth(none)) ///\n",
    "            scheme(s1mono) ///\n",
    "            ylabel(, nogrid) ///\n",
    "            title(\"First Stage - No Interactions\", size(medium)) ///\n",
    "            xlabel(-3470 \"-10\" -2740 \"-8\" -2009 \"-6\" -1279 \"-4\" -548 \"-2\" 182 \"0\" 913 \"2\" 1643 \"4\" 2374 \"6\"  3104 \"8\") ///\n",
    "            legend(order(1 \"Age 16\" 2 \"Age 17\" 3 \"Age 18\" 4 \"Age 19\") rows(1)) /// \n",
    "\n",
    "graph export \"$graphs/All/First Stage.png\", as(png) replace width(2000)"
   ]
  },
  {
   "cell_type": "markdown",
   "id": "64115e1a",
   "metadata": {},
   "source": [
    "#### Reduced Form Regression Graphs"
   ]
  },
  {
   "cell_type": "code",
   "execution_count": null,
   "id": "87e8eda1",
   "metadata": {},
   "outputs": [],
   "source": [
    "foreach depvar in depressionScore gad7 phq2 phq9 wellbeing {\n",
    "\n",
    "    keep if SLA < 19\n",
    "    drop if England == 0 & Wales == 0 & Scotland == 0\n",
    "\n",
    "    reg `depvar' $pretrends4 if DoB <  0 & bw4 == 1 [aw=w4]\n",
    "    global prelinear_a = _b[_cons]\n",
    "    global prelinear_b = _b[DoB]\n",
    "    reg `depvar' $pretrends4 if DoB >= 0 & bw4 == 1 [aw=w4] \n",
    "    global postlinear_a = _b[_cons]\n",
    "    global postlinear_b = _b[DoB]\n",
    "    reg `depvar' $pretrends10 if DoB <  0 [aw=w10]\n",
    "    global prequad_a = _b[_cons]\n",
    "    global prequad_b1 = _b[DoB]\n",
    "    global prequad_b2 = _b[c.DoB#c.DoB]\n",
    "    reg `depvar' $pretrends10 if DoB >= 0 [aw=w10] \n",
    "    global postquad_a = _b[_cons]\n",
    "    global postquad_b1 = _b[DoB]\n",
    "    global postquad_b2 = _b[c.DoB#c.DoB]\n",
    "\n",
    "\n",
    "    gen pop = 1\n",
    "    collapse (mean) `depvar' (sum) pop (mean) bw4 (mean) YoB (mean) x, by(date_birth)\n",
    "\n",
    "    gen DoB = date_birth - td(01sep1957)\n",
    "\n",
    "    gen prelinear  = $prelinear_a  + ($prelinear_b  * DoB) if DoB <= 0 & bw4 == 1\n",
    "    gen postlinear = $postlinear_a + ($postlinear_b * DoB) if DoB >= 0 & bw4 == 1\n",
    "    gen prequad    = $prequad_a    + ($prequad_b1 * DoB)  + ($prequad_b2  * c.DoB#c.DoB) if DoB <= 0\n",
    "    gen postquad   = $postquad_a   + ($postquad_b1 * DoB) + ($postquad_b2 * c.DoB#c.DoB) if DoB >= 0\n",
    "\n",
    "\n",
    "    bysort YoB: egen depvar = mean(`depvar')\n",
    "    bysort DoB: gen n = _n\n",
    "    replace x = . if n > 1\n",
    "\n",
    "    twoway  (scatter depvar    x, msymbol(Oh) mcolor(black) msize(vlarge)) ///\n",
    "            (line    prelinear DoB if DoB <= 0, lcolor(blue))  ///\n",
    "            (line   postlinear DoB if DoB >= 0, lcolor(blue))  ///\n",
    "            (line    prequad   DoB if DoB <= 0, lcolor(red))  ///\n",
    "            (line   postquad   DoB if DoB >= 0, lcolor(red))  ///\n",
    "                , ytitle(\"`depvar'\") legend(off) ///\n",
    "                xtitle(\"Year of Birth\") /// xline(182,  lpattern(dash) lcolor(gs8)) ///\n",
    "                graphregion(fcolor(white)) plotregion(lwidth(none)) ///\n",
    "                scheme(s1mono) ///\n",
    "                ylabel(, nogrid) ///\n",
    "                title(\"Reduced Form - `depvar'\", size(medium)) ///\n",
    "                xlabel(-3470 \"-10\" -2740 \"-8\" -2009 \"-6\" -1279 \"-4\" -548 \"-2\" 182 \"0\" 913 \"2\" 1643 \"4\" 2374 \"6\"  3104 \"8\") \n",
    "\n",
    "graph export \"$graphs/All/Reduced Form - `depvar'.png\", as(png) replace width(2000)\n",
    "\n",
    "}"
   ]
  }
 ],
 "metadata": {
  "kernelspec": {
   "display_name": "Stata",
   "language": "stata",
   "name": "stata"
  }
 },
 "nbformat": 4,
 "nbformat_minor": 5
}
