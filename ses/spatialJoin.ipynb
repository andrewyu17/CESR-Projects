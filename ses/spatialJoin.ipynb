{
 "cells": [
  {
   "cell_type": "markdown",
   "id": "9c67a3ce",
   "metadata": {},
   "source": [
    "# SES Project\n",
    "#### By Andrew Yu (7/26/20)"
   ]
  },
  {
   "cell_type": "markdown",
   "id": "29540602",
   "metadata": {},
   "source": [
    "## Libraries"
   ]
  },
  {
   "cell_type": "code",
   "execution_count": 3,
   "id": "df81bbb9",
   "metadata": {},
   "outputs": [
    {
     "name": "stderr",
     "output_type": "stream",
     "text": [
      "Warning message:\n",
      "\"package 'sf' was built under R version 3.6.3\"Linking to GEOS 3.9.0, GDAL 3.2.1, PROJ 7.2.1\n",
      "\n",
      "Attaching package: 'dplyr'\n",
      "\n",
      "The following objects are masked from 'package:stats':\n",
      "\n",
      "    filter, lag\n",
      "\n",
      "The following objects are masked from 'package:base':\n",
      "\n",
      "    intersect, setdiff, setequal, union\n",
      "\n"
     ]
    }
   ],
   "source": [
    "library(sf)\n",
    "library(dplyr)"
   ]
  },
  {
   "cell_type": "markdown",
   "id": "fe9a9c6c",
   "metadata": {},
   "source": [
    "## 1. Load UK Biobank Data"
   ]
  },
  {
   "cell_type": "code",
   "execution_count": null,
   "id": "c80c600e",
   "metadata": {},
   "outputs": [],
   "source": [
    "ukb <- read.csv(file = \"coordinates.csv\")\n",
    "ukb.old <- read.csv(file = \"birthRegion.csv\")"
   ]
  },
  {
   "cell_type": "markdown",
   "id": "3475ad26",
   "metadata": {},
   "source": [
    "### Load the 1951 Scotland and England/Wales Shapefiles"
   ]
  },
  {
   "cell_type": "code",
   "execution_count": null,
   "id": "377a4337",
   "metadata": {},
   "outputs": [],
   "source": [
    "sco <- st_read(\"S1951_scocounties.shp\")\n",
    "eng <- st_read(\"EW1961_lgdistricts.shp\")"
   ]
  },
  {
   "cell_type": "markdown",
   "id": "697cc1f2",
   "metadata": {},
   "source": [
    "## 2. Clean and prep data"
   ]
  },
  {
   "cell_type": "markdown",
   "id": "7e49e8a7",
   "metadata": {},
   "source": [
    "### Clean data for spatial join"
   ]
  },
  {
   "cell_type": "code",
   "execution_count": null,
   "id": "6227b7ad",
   "metadata": {},
   "outputs": [],
   "source": [
    "ukb[is.na(ukb)] <- 0\n",
    "ukb.old[is.na(ukb.old)] <- 0"
   ]
  },
  {
   "cell_type": "markdown",
   "id": "4939ae76",
   "metadata": {},
   "source": [
    "### Transform Eastings and Northings numbers to spatial coordinates"
   ]
  },
  {
   "cell_type": "code",
   "execution_count": null,
   "id": "6f0678f5",
   "metadata": {},
   "outputs": [],
   "source": [
    "ukb <- st_as_sf(ukb, coords = c('easting', 'northing'), crs = 27700)\n",
    "ukb.old <- st_as_sf(ukb.old, coords = c('east', 'north'), crs = 27700)"
   ]
  },
  {
   "cell_type": "markdown",
   "id": "193e1177",
   "metadata": {},
   "source": [
    "## 3. Spatial Join"
   ]
  },
  {
   "cell_type": "code",
   "execution_count": null,
   "id": "222d1a96",
   "metadata": {},
   "outputs": [],
   "source": [
    "ukb1 <- st_join(ukb, sco, join = st_intersects)\n",
    "ukb2 <- st_join(ukb, eng, join = st_intersects)\n",
    "ukb.old1 <- st_join(ukb.old, sco, join = st_intersects)\n",
    "ukb.old2 <- st_join(ukb.old, eng, join = st_intersects)"
   ]
  },
  {
   "cell_type": "markdown",
   "id": "57993249",
   "metadata": {},
   "source": [
    "## 4. Export"
   ]
  },
  {
   "cell_type": "code",
   "execution_count": null,
   "id": "89b338ac",
   "metadata": {},
   "outputs": [],
   "source": [
    "write.csv(ukb1, \"C:/Users/ayu087/OneDrive/Dropbox/Work/UKB Research/Input/new/matched1.csv\", row.names = TRUE)\n",
    "write.csv(ukb2, \"C:/Users/ayu087/OneDrive/Dropbox/Work/UKB Research/Input/new/matched2.csv\", row.names = TRUE)\n",
    "write.csv(ukb.old1, \"C:/Users/ayu087/OneDrive/Dropbox/Work/UKB Research/Input/old/matched_old1.csv\", row.names = TRUE)\n",
    "write.csv(ukb.old2, \"C:/Users/ayu087/OneDrive/Dropbox/Work/UKB Research/Input/old/matched_old2.csv\", row.names = TRUE)"
   ]
  }
 ],
 "metadata": {
  "kernelspec": {
   "display_name": "R",
   "language": "R",
   "name": "ir"
  },
  "language_info": {
   "codemirror_mode": "r",
   "file_extension": ".r",
   "mimetype": "text/x-r-source",
   "name": "R",
   "pygments_lexer": "r",
   "version": "3.6.1"
  }
 },
 "nbformat": 4,
 "nbformat_minor": 5
}
